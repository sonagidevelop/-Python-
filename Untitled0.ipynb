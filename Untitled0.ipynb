{
  "nbformat": 4,
  "nbformat_minor": 0,
  "metadata": {
    "colab": {
      "name": "Untitled0.ipynb",
      "provenance": [],
      "authorship_tag": "ABX9TyOCjxkA4tOK/FSYIfYsxvV0",
      "include_colab_link": true
    },
    "kernelspec": {
      "name": "python3",
      "display_name": "Python 3"
    }
  },
  "cells": [
    {
      "cell_type": "markdown",
      "metadata": {
        "id": "view-in-github",
        "colab_type": "text"
      },
      "source": [
        "<a href=\"https://colab.research.google.com/github/sonagidevelop/-Python-/blob/main/Untitled0.ipynb\" target=\"_parent\"><img src=\"https://colab.research.google.com/assets/colab-badge.svg\" alt=\"Open In Colab\"/></a>"
      ]
    },
    {
      "cell_type": "code",
      "metadata": {
        "colab": {
          "base_uri": "https://localhost:8080/"
        },
        "id": "jVKXtE8EYW7y",
        "outputId": "6c8877ad-02e9-4bf6-e54b-0b4f79be194a"
      },
      "source": [
        "print(\"hello world!\")"
      ],
      "execution_count": 1,
      "outputs": [
        {
          "output_type": "stream",
          "text": [
            "hello world!\n"
          ],
          "name": "stdout"
        }
      ]
    },
    {
      "cell_type": "markdown",
      "metadata": {
        "id": "C6YUv-ImYyxN"
      },
      "source": [
        ""
      ]
    },
    {
      "cell_type": "code",
      "metadata": {
        "colab": {
          "base_uri": "https://localhost:8080/",
          "height": 281
        },
        "id": "R6c4YKAPYzS0",
        "outputId": "e54e18ce-1ed7-4727-d367-83bbc4c28661"
      },
      "source": [
        "import pandas as pd\r\n",
        "s = pd.Series([0.0,3.6,2.0,5.8,4.2,8.0,5.5,6.7,4.2])\r\n",
        "s.index = pd.Index([0.0,1.2,1.8,3.0,3.6,4.8,5.9,6.8,8.0])\r\n",
        "\r\n",
        "s.index.name = \"MY_IDX\"\r\n",
        "s.name = 'MY_SEIRES'\r\n",
        "\r\n",
        "import matplotlib.pyplot as plt\r\n",
        "plt.title(\"ELLIOTT_WAVE\")\r\n",
        "plt.plot(s, 'bs--')\r\n",
        "plt.xticks(s.index)\r\n",
        "plt.yticks(s.values)\r\n",
        "plt.grid(True)\r\n",
        "plt.show()"
      ],
      "execution_count": 4,
      "outputs": [
        {
          "output_type": "display_data",
          "data": {
            "image/png": "[encoded data removed]",
            "text/plain": [
              "<Figure size 432x288 with 1 Axes>"
            ]
          },
          "metadata": {
            "tags": [],
            "needs_background": "light"
          }
        }
      ]
    },
    {
      "cell_type": "code",
      "metadata": {
        "colab": {
          "base_uri": "https://localhost:8080/"
        },
        "id": "7xe_XiVVfffZ",
        "outputId": "9daec3ac-d36d-4026-98ce-45383d718b47"
      },
      "source": [
        "!pip install yfinance"
      ],
      "execution_count": 6,
      "outputs": [
        {
          "output_type": "stream",
          "text": [
            "Collecting yfinance\n",
            "  Downloading https://files.pythonhosted.org/packages/7a/e8/b9d7104d3a4bf39924799067592d9e59119fcfc900a425a12e80a3123ec8/yfinance-0.1.55.tar.gz\n",
            "Requirement already satisfied: pandas>=0.24 in /usr/local/lib/python3.6/dist-packages (from yfinance) (1.1.5)\n",
            "Requirement already satisfied: numpy>=1.15 in /usr/local/lib/python3.6/dist-packages (from yfinance) (1.19.4)\n",
            "Requirement already satisfied: requests>=2.20 in /usr/local/lib/python3.6/dist-packages (from yfinance) (2.23.0)\n",
            "Requirement already satisfied: multitasking>=0.0.7 in /usr/local/lib/python3.6/dist-packages (from yfinance) (0.0.9)\n",
            "Collecting lxml>=4.5.1\n",
            "\u001b[?25l  Downloading https://files.pythonhosted.org/packages/bd/78/56a7c88a57d0d14945472535d0df9fb4bbad7d34ede658ec7961635c790e/lxml-4.6.2-cp36-cp36m-manylinux1_x86_64.whl (5.5MB)\n",
            "\u001b[K     |████████████████████████████████| 5.5MB 8.4MB/s \n",
            "\u001b[?25hRequirement already satisfied: pytz>=2017.2 in /usr/local/lib/python3.6/dist-packages (from pandas>=0.24->yfinance) (2018.9)\n",
            "Requirement already satisfied: python-dateutil>=2.7.3 in /usr/local/lib/python3.6/dist-packages (from pandas>=0.24->yfinance) (2.8.1)\n",
            "Requirement already satisfied: urllib3!=1.25.0,!=1.25.1,<1.26,>=1.21.1 in /usr/local/lib/python3.6/dist-packages (from requests>=2.20->yfinance) (1.24.3)\n",
            "Requirement already satisfied: certifi>=2017.4.17 in /usr/local/lib/python3.6/dist-packages (from requests>=2.20->yfinance) (2020.12.5)\n",
            "Requirement already satisfied: idna<3,>=2.5 in /usr/local/lib/python3.6/dist-packages (from requests>=2.20->yfinance) (2.10)\n",
            "Requirement already satisfied: chardet<4,>=3.0.2 in /usr/local/lib/python3.6/dist-packages (from requests>=2.20->yfinance) (3.0.4)\n",
            "Requirement already satisfied: six>=1.5 in /usr/local/lib/python3.6/dist-packages (from python-dateutil>=2.7.3->pandas>=0.24->yfinance) (1.15.0)\n",
            "Building wheels for collected packages: yfinance\n",
            "  Building wheel for yfinance (setup.py) ... \u001b[?25l\u001b[?25hdone\n",
            "  Created wheel for yfinance: filename=yfinance-0.1.55-py2.py3-none-any.whl size=22616 sha256=12aa17f2098931514977d07bddc5e7ddcd254d9f9a5925fff22c31ac5ce61613\n",
            "  Stored in directory: /root/.cache/pip/wheels/04/98/cc/2702a4242d60bdc14f48b4557c427ded1fe92aedf257d4565c\n",
            "Successfully built yfinance\n",
            "Installing collected packages: lxml, yfinance\n",
            "  Found existing installation: lxml 4.2.6\n",
            "    Uninstalling lxml-4.2.6:\n",
            "      Successfully uninstalled lxml-4.2.6\n",
            "Successfully installed lxml-4.6.2 yfinance-0.1.55\n"
          ],
          "name": "stdout"
        }
      ]
    },
    {
      "cell_type": "code",
      "metadata": {
        "colab": {
          "base_uri": "https://localhost:8080/",
          "height": 302
        },
        "id": "8XZsmvrOgFbc",
        "outputId": "2f4c5502-7742-449f-948a-0b10d208f166"
      },
      "source": [
        "from pandas_datareader import data as pdr\r\n",
        "import yfinance as yf\r\n",
        "yf.pdr_override()\r\n",
        "\r\n",
        "tsla = pdr.get_data_yahoo('TSLA', start='2018-05-04')\r\n",
        "msft = pdr.get_data_yahoo('MSFT', start='2018-05-04')\r\n",
        "\r\n",
        "import matplotlib.pyplot as plt\r\n",
        "\r\n",
        "tsla_dpc = (tsla['Close'] - tsla['Close'].shift(1)) / tsla['Close'].shift(1) * 100\r\n",
        "tsla_dpc.iloc[0] = 0\r\n",
        "tsla_dpc_cs = tsla_dpc.cumsum()\r\n",
        "plt.plot(tsla.index ,tsla_dpc_cs, 'r--', label=\"Tesla\")\r\n",
        "plt.grid(True)\r\n",
        "plt.legend(loc='best')\r\n",
        "plt.show()\r\n"
      ],
      "execution_count": 18,
      "outputs": [
        {
          "output_type": "stream",
          "text": [
            "[*********************100%***********************]  1 of 1 completed\n",
            "[*********************100%***********************]  1 of 1 completed\n"
          ],
          "name": "stdout"
        },
        {
          "output_type": "display_data",
          "data": {
            "image/png": "[encoded data removed]",
            "text/plain": [
              "<Figure size 432x288 with 1 Axes>"
            ]
          },
          "metadata": {
            "tags": [],
            "needs_background": "light"
          }
        }
      ]
    },
    {
      "cell_type": "code",
      "metadata": {
        "colab": {
          "base_uri": "https://localhost:8080/",
          "height": 390
        },
        "id": "HnUOmVBXgcIm",
        "outputId": "887b80eb-715f-455f-80f3-9522d5d022ed"
      },
      "source": [
        "tsla.tail(10)"
      ],
      "execution_count": 10,
      "outputs": [
        {
          "output_type": "execute_result",
          "data": {
            "text/html": [
              "<div>\n",
              "<style scoped>\n",
              "    .dataframe tbody tr th:only-of-type {\n",
              "        vertical-align: middle;\n",
              "    }\n",
              "\n",
              "    .dataframe tbody tr th {\n",
              "        vertical-align: top;\n",
              "    }\n",
              "\n",
              "    .dataframe thead th {\n",
              "        text-align: right;\n",
              "    }\n",
              "</style>\n",
              "<table border=\"1\" class=\"dataframe\">\n",
              "  <thead>\n",
              "    <tr style=\"text-align: right;\">\n",
              "      <th></th>\n",
              "      <th>Open</th>\n",
              "      <th>High</th>\n",
              "      <th>Low</th>\n",
              "      <th>Close</th>\n",
              "      <th>Adj Close</th>\n",
              "      <th>Volume</th>\n",
              "    </tr>\n",
              "    <tr>\n",
              "      <th>Date</th>\n",
              "      <th></th>\n",
              "      <th></th>\n",
              "      <th></th>\n",
              "      <th></th>\n",
              "      <th></th>\n",
              "      <th></th>\n",
              "    </tr>\n",
              "  </thead>\n",
              "  <tbody>\n",
              "    <tr>\n",
              "      <th>2020-12-24</th>\n",
              "      <td>642.989990</td>\n",
              "      <td>666.090027</td>\n",
              "      <td>641.000000</td>\n",
              "      <td>661.770020</td>\n",
              "      <td>661.770020</td>\n",
              "      <td>22865600</td>\n",
              "    </tr>\n",
              "    <tr>\n",
              "      <th>2020-12-28</th>\n",
              "      <td>674.510010</td>\n",
              "      <td>681.400024</td>\n",
              "      <td>660.799988</td>\n",
              "      <td>663.690002</td>\n",
              "      <td>663.690002</td>\n",
              "      <td>32278600</td>\n",
              "    </tr>\n",
              "    <tr>\n",
              "      <th>2020-12-29</th>\n",
              "      <td>661.000000</td>\n",
              "      <td>669.900024</td>\n",
              "      <td>655.000000</td>\n",
              "      <td>665.989990</td>\n",
              "      <td>665.989990</td>\n",
              "      <td>22910800</td>\n",
              "    </tr>\n",
              "    <tr>\n",
              "      <th>2020-12-30</th>\n",
              "      <td>672.000000</td>\n",
              "      <td>696.599976</td>\n",
              "      <td>668.359985</td>\n",
              "      <td>694.780029</td>\n",
              "      <td>694.780029</td>\n",
              "      <td>42846000</td>\n",
              "    </tr>\n",
              "    <tr>\n",
              "      <th>2020-12-31</th>\n",
              "      <td>699.989990</td>\n",
              "      <td>718.719971</td>\n",
              "      <td>691.119995</td>\n",
              "      <td>705.669983</td>\n",
              "      <td>705.669983</td>\n",
              "      <td>49570900</td>\n",
              "    </tr>\n",
              "    <tr>\n",
              "      <th>2021-01-04</th>\n",
              "      <td>719.460022</td>\n",
              "      <td>744.489990</td>\n",
              "      <td>717.190002</td>\n",
              "      <td>729.770020</td>\n",
              "      <td>729.770020</td>\n",
              "      <td>48638200</td>\n",
              "    </tr>\n",
              "    <tr>\n",
              "      <th>2021-01-05</th>\n",
              "      <td>723.659973</td>\n",
              "      <td>740.840027</td>\n",
              "      <td>719.200012</td>\n",
              "      <td>735.109985</td>\n",
              "      <td>735.109985</td>\n",
              "      <td>32245200</td>\n",
              "    </tr>\n",
              "    <tr>\n",
              "      <th>2021-01-06</th>\n",
              "      <td>758.489990</td>\n",
              "      <td>774.000000</td>\n",
              "      <td>749.099976</td>\n",
              "      <td>755.979980</td>\n",
              "      <td>755.979980</td>\n",
              "      <td>44700000</td>\n",
              "    </tr>\n",
              "    <tr>\n",
              "      <th>2021-01-07</th>\n",
              "      <td>777.630005</td>\n",
              "      <td>816.989990</td>\n",
              "      <td>775.200012</td>\n",
              "      <td>816.039978</td>\n",
              "      <td>816.039978</td>\n",
              "      <td>51498900</td>\n",
              "    </tr>\n",
              "    <tr>\n",
              "      <th>2021-01-08</th>\n",
              "      <td>856.000000</td>\n",
              "      <td>884.489990</td>\n",
              "      <td>838.390015</td>\n",
              "      <td>880.020020</td>\n",
              "      <td>880.020020</td>\n",
              "      <td>74661000</td>\n",
              "    </tr>\n",
              "  </tbody>\n",
              "</table>\n",
              "</div>"
            ],
            "text/plain": [
              "                  Open        High  ...   Adj Close    Volume\n",
              "Date                                ...                      \n",
              "2020-12-24  642.989990  666.090027  ...  661.770020  22865600\n",
              "2020-12-28  674.510010  681.400024  ...  663.690002  32278600\n",
              "2020-12-29  661.000000  669.900024  ...  665.989990  22910800\n",
              "2020-12-30  672.000000  696.599976  ...  694.780029  42846000\n",
              "2020-12-31  699.989990  718.719971  ...  705.669983  49570900\n",
              "2021-01-04  719.460022  744.489990  ...  729.770020  48638200\n",
              "2021-01-05  723.659973  740.840027  ...  735.109985  32245200\n",
              "2021-01-06  758.489990  774.000000  ...  755.979980  44700000\n",
              "2021-01-07  777.630005  816.989990  ...  816.039978  51498900\n",
              "2021-01-08  856.000000  884.489990  ...  880.020020  74661000\n",
              "\n",
              "[10 rows x 6 columns]"
            ]
          },
          "metadata": {
            "tags": []
          },
          "execution_count": 10
        }
      ]
    }
  ]
}