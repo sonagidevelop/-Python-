{
  "nbformat": 4,
  "nbformat_minor": 0,
  "metadata": {
    "colab": {
      "name": "candle.ipynb",
      "provenance": [],
      "collapsed_sections": [],
      "authorship_tag": "ABX9TyODAQzytb+x/pGGguogchDr",
      "include_colab_link": true
    },
    "kernelspec": {
      "name": "python3",
      "display_name": "Python 3"
    }
  },
  "cells": [
    {
      "cell_type": "markdown",
      "metadata": {
        "id": "view-in-github",
        "colab_type": "text"
      },
      "source": [
        "<a href=\"https://colab.research.google.com/github/sonagidevelop/-Python-/blob/main/candle.ipynb\" target=\"_parent\"><img src=\"https://colab.research.google.com/assets/colab-badge.svg\" alt=\"Open In Colab\"/></a>"
      ]
    },
    {
      "cell_type": "code",
      "metadata": {
        "colab": {
          "base_uri": "https://localhost:8080/"
        },
        "id": "oMrABs6pmYJz",
        "outputId": "0bbfcdd8-9a5a-4bf3-a5ee-cdc1b2a761da"
      },
      "source": [
        "from google.colab import drive\r\n",
        "drive.mount('/content/gdrive/')"
      ],
      "execution_count": 1,
      "outputs": [
        {
          "output_type": "stream",
          "text": [
            "Mounted at /content/gdrive/\n"
          ],
          "name": "stdout"
        }
      ]
    },
    {
      "cell_type": "code",
      "metadata": {
        "colab": {
          "base_uri": "https://localhost:8080/",
          "height": 623
        },
        "id": "478x_3JdoTsI",
        "outputId": "2267531b-b5ab-48d3-c872-96ec054dcd14"
      },
      "source": [
        "import pandas as pd\r\n",
        "krx_list = pd.read_html('/content/상장법인목록.xls')\r\n",
        "krx_list[0].종목코드 = krx_list[0].종목코드.map('{:06d}'.format)\r\n",
        "krx_list[0]"
      ],
      "execution_count": 37,
      "outputs": [
        {
          "output_type": "execute_result",
          "data": {
            "text/html": [
              "<div>\n",
              "<style scoped>\n",
              "    .dataframe tbody tr th:only-of-type {\n",
              "        vertical-align: middle;\n",
              "    }\n",
              "\n",
              "    .dataframe tbody tr th {\n",
              "        vertical-align: top;\n",
              "    }\n",
              "\n",
              "    .dataframe thead th {\n",
              "        text-align: right;\n",
              "    }\n",
              "</style>\n",
              "<table border=\"1\" class=\"dataframe\">\n",
              "  <thead>\n",
              "    <tr style=\"text-align: right;\">\n",
              "      <th></th>\n",
              "      <th>회사명</th>\n",
              "      <th>종목코드</th>\n",
              "      <th>업종</th>\n",
              "      <th>주요제품</th>\n",
              "      <th>상장일</th>\n",
              "      <th>결산월</th>\n",
              "      <th>대표자명</th>\n",
              "      <th>홈페이지</th>\n",
              "      <th>지역</th>\n",
              "    </tr>\n",
              "  </thead>\n",
              "  <tbody>\n",
              "    <tr>\n",
              "      <th>0</th>\n",
              "      <td>나우코스</td>\n",
              "      <td>257990</td>\n",
              "      <td>기타 화학제품 제조업</td>\n",
              "      <td>화장품, 동물용의약외품</td>\n",
              "      <td>2020-12-30</td>\n",
              "      <td>12월</td>\n",
              "      <td>노향선</td>\n",
              "      <td>http://www.nowcos.com/</td>\n",
              "      <td>세종특별자치시</td>\n",
              "    </tr>\n",
              "    <tr>\n",
              "      <th>1</th>\n",
              "      <td>에이스캠퍼</td>\n",
              "      <td>322190</td>\n",
              "      <td>자동차 차체 및 트레일러 제조업</td>\n",
              "      <td>캠핑카</td>\n",
              "      <td>2020-12-29</td>\n",
              "      <td>12월</td>\n",
              "      <td>김민성</td>\n",
              "      <td>http://acecamper.co.kr/</td>\n",
              "      <td>충청남도</td>\n",
              "    </tr>\n",
              "    <tr>\n",
              "      <th>2</th>\n",
              "      <td>유안타제7호스팩</td>\n",
              "      <td>367460</td>\n",
              "      <td>금융 지원 서비스업</td>\n",
              "      <td>금융지원 서비스</td>\n",
              "      <td>2020-12-28</td>\n",
              "      <td>12월</td>\n",
              "      <td>임율표</td>\n",
              "      <td>NaN</td>\n",
              "      <td>서울특별시</td>\n",
              "    </tr>\n",
              "    <tr>\n",
              "      <th>3</th>\n",
              "      <td>루트락</td>\n",
              "      <td>253610</td>\n",
              "      <td>기타 전문 도매업</td>\n",
              "      <td>인공슬관절, 척추 임플란트(의료기기 도·소매)</td>\n",
              "      <td>2020-12-24</td>\n",
              "      <td>12월</td>\n",
              "      <td>박종진</td>\n",
              "      <td>http://rootloc.com/</td>\n",
              "      <td>서울특별시</td>\n",
              "    </tr>\n",
              "    <tr>\n",
              "      <th>4</th>\n",
              "      <td>ESR켄달스퀘어리츠</td>\n",
              "      <td>365550</td>\n",
              "      <td>부동산 임대 및 공급업</td>\n",
              "      <td>부동산투자</td>\n",
              "      <td>2020-12-23</td>\n",
              "      <td>05월</td>\n",
              "      <td>박래익</td>\n",
              "      <td>http://www.esrks-reit.com</td>\n",
              "      <td>서울특별시</td>\n",
              "    </tr>\n",
              "    <tr>\n",
              "      <th>...</th>\n",
              "      <td>...</td>\n",
              "      <td>...</td>\n",
              "      <td>...</td>\n",
              "      <td>...</td>\n",
              "      <td>...</td>\n",
              "      <td>...</td>\n",
              "      <td>...</td>\n",
              "      <td>...</td>\n",
              "      <td>...</td>\n",
              "    </tr>\n",
              "    <tr>\n",
              "      <th>2406</th>\n",
              "      <td>CJ대한통운</td>\n",
              "      <td>000120</td>\n",
              "      <td>도로 화물 운송업</td>\n",
              "      <td>Contract Logistics, 포워딩, 항만하역, 해운, 택배국제특송, SCM...</td>\n",
              "      <td>1956-07-02</td>\n",
              "      <td>12월</td>\n",
              "      <td>박근희</td>\n",
              "      <td>http://www.cjlogistics.com</td>\n",
              "      <td>서울특별시</td>\n",
              "    </tr>\n",
              "    <tr>\n",
              "      <th>2407</th>\n",
              "      <td>메리츠화재</td>\n",
              "      <td>000060</td>\n",
              "      <td>보험업</td>\n",
              "      <td>손해보험(화재,해상,운송보험)</td>\n",
              "      <td>1956-07-02</td>\n",
              "      <td>12월</td>\n",
              "      <td>김용범</td>\n",
              "      <td>http://www.meritzfire.com</td>\n",
              "      <td>서울특별시</td>\n",
              "    </tr>\n",
              "    <tr>\n",
              "      <th>2408</th>\n",
              "      <td>경방</td>\n",
              "      <td>000050</td>\n",
              "      <td>종합 소매업</td>\n",
              "      <td>섬유류(면사,면혼방사,면직물,면혼방직물,화섬사,화섬직물) 제조,도매,수출입</td>\n",
              "      <td>1956-03-03</td>\n",
              "      <td>12월</td>\n",
              "      <td>김준, 김담</td>\n",
              "      <td>http://www.kyungbang.co.kr</td>\n",
              "      <td>서울특별시</td>\n",
              "    </tr>\n",
              "    <tr>\n",
              "      <th>2409</th>\n",
              "      <td>유수홀딩스</td>\n",
              "      <td>000700</td>\n",
              "      <td>회사 본부 및 경영 컨설팅 서비스업</td>\n",
              "      <td>지주사업</td>\n",
              "      <td>1956-03-03</td>\n",
              "      <td>12월</td>\n",
              "      <td>송영규</td>\n",
              "      <td>http://www.eusu-holdings.com</td>\n",
              "      <td>서울특별시</td>\n",
              "    </tr>\n",
              "    <tr>\n",
              "      <th>2410</th>\n",
              "      <td>한진중공업홀딩스</td>\n",
              "      <td>003480</td>\n",
              "      <td>연료용 가스 제조 및 배관공급업</td>\n",
              "      <td>지주회사</td>\n",
              "      <td>1956-03-03</td>\n",
              "      <td>12월</td>\n",
              "      <td>조남호, 조원국</td>\n",
              "      <td>http://www.hhic-holdings.com</td>\n",
              "      <td>경기도</td>\n",
              "    </tr>\n",
              "  </tbody>\n",
              "</table>\n",
              "<p>2411 rows × 9 columns</p>\n",
              "</div>"
            ],
            "text/plain": [
              "             회사명    종목코드  ...                          홈페이지       지역\n",
              "0           나우코스  257990  ...        http://www.nowcos.com/  세종특별자치시\n",
              "1          에이스캠퍼  322190  ...       http://acecamper.co.kr/     충청남도\n",
              "2       유안타제7호스팩  367460  ...                           NaN    서울특별시\n",
              "3            루트락  253610  ...           http://rootloc.com/    서울특별시\n",
              "4     ESR켄달스퀘어리츠  365550  ...     http://www.esrks-reit.com    서울특별시\n",
              "...          ...     ...  ...                           ...      ...\n",
              "2406      CJ대한통운  000120  ...    http://www.cjlogistics.com    서울특별시\n",
              "2407       메리츠화재  000060  ...     http://www.meritzfire.com    서울특별시\n",
              "2408          경방  000050  ...    http://www.kyungbang.co.kr    서울특별시\n",
              "2409       유수홀딩스  000700  ...  http://www.eusu-holdings.com    서울특별시\n",
              "2410    한진중공업홀딩스  003480  ...  http://www.hhic-holdings.com      경기도\n",
              "\n",
              "[2411 rows x 9 columns]"
            ]
          },
          "metadata": {
            "tags": []
          },
          "execution_count": 37
        }
      ]
    },
    {
      "cell_type": "code",
      "metadata": {
        "id": "5xsGtQ1lwph_"
      },
      "source": [
        "df = pd.read_html('https://kind.krx.co.kr/corpgeneral/corpList.do?method=download&searchType=13')[0]\r\n",
        "df['종목코드'] = df['종목코드'].map('{:06d}'.format)\r\n",
        "df = df.sort_values(by='종목코드')\r\n",
        "df\r\n"
      ],
      "execution_count": null,
      "outputs": []
    },
    {
      "cell_type": "code",
      "metadata": {
        "colab": {
          "base_uri": "https://localhost:8080/"
        },
        "id": "JLeWNECtp7mL",
        "outputId": "a4aa0522-b78b-4606-f604-3c72adb2dfbf"
      },
      "source": [
        "import pandas as pd\r\n",
        "from bs4 import BeautifulSoup\r\n",
        "from urllib.request import urlopen\r\n",
        "import requests\r\n",
        "\r\n",
        "\r\n",
        "url = 'https://finance.naver.com/item/sise_day.nhn?code=068270&page=1'\r\n",
        "raw = requests.get(url, headers={'User-Agent':'Mozilla/5.0'})\r\n",
        "html = BeautifulSoup(raw.text, \"html.parser\")\r\n",
        "pgrr = html.find('td', class_='pgRR')\r\n",
        "s = str(pgrr.a['href']).split('=')\r\n",
        "\r\n",
        "last_page  = s[-1]\r\n",
        "\r\n",
        "df = pd.DataFrame()\r\n",
        "sise_url='https://finance.naver.com/item/main.nhn?code=068270'\r\n",
        "\r\n",
        "for page in range(1, 11):\r\n",
        "  page_url = '{}&page={}'.format(sise_url, page)\r\n",
        "  df = df.append(pd.read_html(page_url, header=0)[0])\r\n",
        "  print(page)\r\n",
        "\r\n",
        "df = df.dropna()\r\n",
        "print(df)"
      ],
      "execution_count": 36,
      "outputs": [
        {
          "output_type": "stream",
          "text": [
            "1\n",
            "2\n",
            "3\n",
            "4\n",
            "5\n",
            "6\n",
            "7\n",
            "8\n",
            "9\n",
            "10\n",
            "  ÀüÀÏ  367,000  367,000  ...      °Å·¡·®  2,516,411  2,516,411\n",
            "0   ½Ã°¡  377,000377,000  ...  °Å·¡´ë±Ý  943,957  943,957  ¹é¸¸\n",
            "0   ½Ã°¡  377,000377,000  ...  °Å·¡´ë±Ý  943,957  943,957  ¹é¸¸\n",
            "0   ½Ã°¡  377,000377,000  ...  °Å·¡´ë±Ý  943,957  943,957  ¹é¸¸\n",
            "0   ½Ã°¡  377,000377,000  ...  °Å·¡´ë±Ý  943,957  943,957  ¹é¸¸\n",
            "0   ½Ã°¡  377,000377,000  ...  °Å·¡´ë±Ý  943,957  943,957  ¹é¸¸\n",
            "0   ½Ã°¡  377,000377,000  ...  °Å·¡´ë±Ý  943,957  943,957  ¹é¸¸\n",
            "0   ½Ã°¡  377,000377,000  ...  °Å·¡´ë±Ý  943,957  943,957  ¹é¸¸\n",
            "0   ½Ã°¡  377,000377,000  ...  °Å·¡´ë±Ý  943,957  943,957  ¹é¸¸\n",
            "0   ½Ã°¡  377,000377,000  ...  °Å·¡´ë±Ý  943,957  943,957  ¹é¸¸\n",
            "0   ½Ã°¡  377,000377,000  ...  °Å·¡´ë±Ý  943,957  943,957  ¹é¸¸\n",
            "\n",
            "[10 rows x 3 columns]\n"
          ],
          "name": "stdout"
        }
      ]
    }
  ]
}